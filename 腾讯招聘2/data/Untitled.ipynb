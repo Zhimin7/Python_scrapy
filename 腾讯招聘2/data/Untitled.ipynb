{
 "cells": [
  {
   "cell_type": "code",
   "execution_count": 10,
   "metadata": {},
   "outputs": [],
   "source": [
    "import pandas as pd\n",
    "import matplotlib.pyplot as plt\n",
    "import matplotlib"
   ]
  },
  {
   "cell_type": "code",
   "execution_count": 2,
   "metadata": {},
   "outputs": [
    {
     "data": {
      "text/html": [
       "<div>\n",
       "<style scoped>\n",
       "    .dataframe tbody tr th:only-of-type {\n",
       "        vertical-align: middle;\n",
       "    }\n",
       "\n",
       "    .dataframe tbody tr th {\n",
       "        vertical-align: top;\n",
       "    }\n",
       "\n",
       "    .dataframe thead th {\n",
       "        text-align: right;\n",
       "    }\n",
       "</style>\n",
       "<table border=\"1\" class=\"dataframe\">\n",
       "  <thead>\n",
       "    <tr style=\"text-align: right;\">\n",
       "      <th></th>\n",
       "      <th>country_name</th>\n",
       "      <th>location_name</th>\n",
       "      <th>category_name</th>\n",
       "      <th>recruit_post_name</th>\n",
       "      <th>responsibility</th>\n",
       "      <th>last_update_time</th>\n",
       "    </tr>\n",
       "  </thead>\n",
       "  <tbody>\n",
       "    <tr>\n",
       "      <th>0</th>\n",
       "      <td>中国</td>\n",
       "      <td>深圳</td>\n",
       "      <td>技术</td>\n",
       "      <td>23295-互娱TGL后台开发工程师（深圳）</td>\n",
       "      <td>1.参与腾讯游戏内容创作平台架构设计和搭建工作；2.负责腾讯游戏内容创作平台后台模块开发工作...</td>\n",
       "      <td>2021年01月21日</td>\n",
       "    </tr>\n",
       "    <tr>\n",
       "      <th>1</th>\n",
       "      <td>中国</td>\n",
       "      <td>深圳</td>\n",
       "      <td>技术</td>\n",
       "      <td>PCG17-web前端开发工程师（深圳）</td>\n",
       "      <td>负责通过技术提升用户体验和可用性；负责实现突破web多终端设备限制，为更多用户群体提供更好地...</td>\n",
       "      <td>2021年01月21日</td>\n",
       "    </tr>\n",
       "    <tr>\n",
       "      <th>2</th>\n",
       "      <td>中国</td>\n",
       "      <td>深圳</td>\n",
       "      <td>技术</td>\n",
       "      <td>PCG17-后台开发高级工程师（深圳）</td>\n",
       "      <td>负责后台Server的架构设计、开发、优化以及运营工作；负责提出海量服务的解决方案，针对高并...</td>\n",
       "      <td>2021年01月21日</td>\n",
       "    </tr>\n",
       "    <tr>\n",
       "      <th>3</th>\n",
       "      <td>中国</td>\n",
       "      <td>深圳</td>\n",
       "      <td>产品</td>\n",
       "      <td>PCG17-QQ手游平台产品策划（深圳）</td>\n",
       "      <td>负责QQ游戏中心的产品策划工作，把握产品方向，对平台用户活跃度及用户体验负责；利用QQ平台独...</td>\n",
       "      <td>2021年01月21日</td>\n",
       "    </tr>\n",
       "    <tr>\n",
       "      <th>4</th>\n",
       "      <td>中国</td>\n",
       "      <td>深圳</td>\n",
       "      <td>技术</td>\n",
       "      <td>15605-日本动漫IP手游服务器开发工程师（深圳）</td>\n",
       "      <td>和项目团队紧密合作，为游戏产品提供行业先进的技术解决方案，以丰富游戏产品内容，提升游戏品质；...</td>\n",
       "      <td>2021年01月21日</td>\n",
       "    </tr>\n",
       "    <tr>\n",
       "      <th>5</th>\n",
       "      <td>中国</td>\n",
       "      <td>北京</td>\n",
       "      <td>战略与投资</td>\n",
       "      <td>22851-腾讯视频行业研究</td>\n",
       "      <td>负责视频行业研究，持续观察视频领域新趋势，新产品和新模式，寻找和判断新的业务机会，为业务团队...</td>\n",
       "      <td>2021年01月21日</td>\n",
       "    </tr>\n",
       "    <tr>\n",
       "      <th>6</th>\n",
       "      <td>中国</td>\n",
       "      <td>广州</td>\n",
       "      <td>技术</td>\n",
       "      <td>CSIG08-iOS开发工程师（广州）</td>\n",
       "      <td>1. 负责腾讯相册管家iOS平台开发工作2. 独立承担包括iOS客户端的需求分析、方案设计与...</td>\n",
       "      <td>2021年01月21日</td>\n",
       "    </tr>\n",
       "    <tr>\n",
       "      <th>7</th>\n",
       "      <td>中国</td>\n",
       "      <td>深圳</td>\n",
       "      <td>技术</td>\n",
       "      <td>PCG19-腾讯视频视觉算法组组长（深圳/北京）【LLive】</td>\n",
       "      <td>负责腾讯视频视频理解领域的技术研发。负责图片、视频分析算法的研究和开发，包括但不限于图像/视...</td>\n",
       "      <td>2021年01月21日</td>\n",
       "    </tr>\n",
       "    <tr>\n",
       "      <th>8</th>\n",
       "      <td>中国</td>\n",
       "      <td>深圳</td>\n",
       "      <td>技术</td>\n",
       "      <td>PCG19-腾讯视频GO/C++后台工程师（深圳/北京）【LLive】</td>\n",
       "      <td>负责腾讯视频app移动后台的设计与开发；负责腾讯视频弹幕、直播服务等系统的设计与开发；负责腾...</td>\n",
       "      <td>2021年01月21日</td>\n",
       "    </tr>\n",
       "    <tr>\n",
       "      <th>9</th>\n",
       "      <td>中国</td>\n",
       "      <td>深圳</td>\n",
       "      <td>技术</td>\n",
       "      <td>25923-蓝鲸C++后台开发工程师（深圳）</td>\n",
       "      <td>负责腾讯蓝鲸体系分布式管控后台开发工作；负责蓝鲸容器运行时相关功能开发；负责底层后台网络技术...</td>\n",
       "      <td>2021年01月21日</td>\n",
       "    </tr>\n",
       "  </tbody>\n",
       "</table>\n",
       "</div>"
      ],
      "text/plain": [
       "  country_name location_name category_name  \\\n",
       "0           中国            深圳            技术   \n",
       "1           中国            深圳            技术   \n",
       "2           中国            深圳            技术   \n",
       "3           中国            深圳            产品   \n",
       "4           中国            深圳            技术   \n",
       "5           中国            北京         战略与投资   \n",
       "6           中国            广州            技术   \n",
       "7           中国            深圳            技术   \n",
       "8           中国            深圳            技术   \n",
       "9           中国            深圳            技术   \n",
       "\n",
       "                     recruit_post_name  \\\n",
       "0               23295-互娱TGL后台开发工程师（深圳）   \n",
       "1                 PCG17-web前端开发工程师（深圳）   \n",
       "2                  PCG17-后台开发高级工程师（深圳）   \n",
       "3                 PCG17-QQ手游平台产品策划（深圳）   \n",
       "4           15605-日本动漫IP手游服务器开发工程师（深圳）   \n",
       "5                       22851-腾讯视频行业研究   \n",
       "6                  CSIG08-iOS开发工程师（广州）   \n",
       "7      PCG19-腾讯视频视觉算法组组长（深圳/北京）【LLive】   \n",
       "8  PCG19-腾讯视频GO/C++后台工程师（深圳/北京）【LLive】   \n",
       "9               25923-蓝鲸C++后台开发工程师（深圳）   \n",
       "\n",
       "                                      responsibility last_update_time  \n",
       "0  1.参与腾讯游戏内容创作平台架构设计和搭建工作；2.负责腾讯游戏内容创作平台后台模块开发工作...      2021年01月21日  \n",
       "1  负责通过技术提升用户体验和可用性；负责实现突破web多终端设备限制，为更多用户群体提供更好地...      2021年01月21日  \n",
       "2  负责后台Server的架构设计、开发、优化以及运营工作；负责提出海量服务的解决方案，针对高并...      2021年01月21日  \n",
       "3  负责QQ游戏中心的产品策划工作，把握产品方向，对平台用户活跃度及用户体验负责；利用QQ平台独...      2021年01月21日  \n",
       "4  和项目团队紧密合作，为游戏产品提供行业先进的技术解决方案，以丰富游戏产品内容，提升游戏品质；...      2021年01月21日  \n",
       "5  负责视频行业研究，持续观察视频领域新趋势，新产品和新模式，寻找和判断新的业务机会，为业务团队...      2021年01月21日  \n",
       "6  1. 负责腾讯相册管家iOS平台开发工作2. 独立承担包括iOS客户端的需求分析、方案设计与...      2021年01月21日  \n",
       "7  负责腾讯视频视频理解领域的技术研发。负责图片、视频分析算法的研究和开发，包括但不限于图像/视...      2021年01月21日  \n",
       "8  负责腾讯视频app移动后台的设计与开发；负责腾讯视频弹幕、直播服务等系统的设计与开发；负责腾...      2021年01月21日  \n",
       "9  负责腾讯蓝鲸体系分布式管控后台开发工作；负责蓝鲸容器运行时相关功能开发；负责底层后台网络技术...      2021年01月21日  "
      ]
     },
     "execution_count": 2,
     "metadata": {},
     "output_type": "execute_result"
    }
   ],
   "source": [
    "df = pd.read_csv('腾讯招聘.csv', index_col=0)\n",
    "df.head(10)"
   ]
  },
  {
   "cell_type": "code",
   "execution_count": 21,
   "metadata": {},
   "outputs": [
    {
     "name": "stdout",
     "output_type": "stream",
     "text": [
      "location_name\n",
      "Amsterdam         6\n",
      "Irvine            2\n",
      "Los Angeles       8\n",
      "Palo Alto         5\n",
      "Seattle           5\n",
      "Seoul             1\n",
      "Singapore         1\n",
      "Vancouver         7\n",
      "上海              344\n",
      "东京                3\n",
      "兰州                1\n",
      "北京              541\n",
      "南京                2\n",
      "南昌                1\n",
      "厦门                1\n",
      "合肥                2\n",
      "天津               12\n",
      "广州              148\n",
      "成都               97\n",
      "扬州                1\n",
      "新加坡              34\n",
      "昆明                1\n",
      "曼谷                2\n",
      "杭州                7\n",
      "武汉               64\n",
      "深圳             1766\n",
      "深圳总部             26\n",
      "西安              143\n",
      "贵阳                1\n",
      "重庆               21\n",
      "长沙               23\n",
      "青岛                2\n",
      "首尔                3\n",
      "香港                7\n",
      "Name: location_name, dtype: int64\n"
     ]
    }
   ],
   "source": [
    "city_count = df.groupby('location_name')['location_name'].count()\n",
    "print(city_count)"
   ]
  },
  {
   "cell_type": "code",
   "execution_count": 12,
   "metadata": {},
   "outputs": [
    {
     "ename": "TypeError",
     "evalue": "bar() missing 1 required positional argument: 'x'",
     "output_type": "error",
     "traceback": [
      "\u001b[1;31m---------------------------------------------------------------------------\u001b[0m",
      "\u001b[1;31mTypeError\u001b[0m                                 Traceback (most recent call last)",
      "\u001b[1;32m<ipython-input-12-f60a0ff49627>\u001b[0m in \u001b[0;36m<module>\u001b[1;34m\u001b[0m\n\u001b[1;32m----> 1\u001b[1;33m \u001b[0mplt\u001b[0m\u001b[1;33m.\u001b[0m\u001b[0mbar\u001b[0m\u001b[1;33m(\u001b[0m\u001b[0mheight\u001b[0m\u001b[1;33m=\u001b[0m\u001b[0mcity\u001b[0m\u001b[1;33m)\u001b[0m\u001b[1;33m\u001b[0m\u001b[1;33m\u001b[0m\u001b[0m\n\u001b[0m",
      "\u001b[1;31mTypeError\u001b[0m: bar() missing 1 required positional argument: 'x'"
     ]
    }
   ],
   "source": [
    "matplotlib.rc('font', family='simhei.ttf')"
   ]
  },
  {
   "cell_type": "code",
   "execution_count": null,
   "metadata": {},
   "outputs": [],
   "source": []
  }
 ],
 "metadata": {
  "kernelspec": {
   "display_name": "Python 3",
   "language": "python",
   "name": "python3"
  },
  "language_info": {
   "codemirror_mode": {
    "name": "ipython",
    "version": 3
   },
   "file_extension": ".py",
   "mimetype": "text/x-python",
   "name": "python",
   "nbconvert_exporter": "python",
   "pygments_lexer": "ipython3",
   "version": "3.8.1"
  },
  "toc": {
   "base_numbering": 1,
   "nav_menu": {},
   "number_sections": true,
   "sideBar": true,
   "skip_h1_title": false,
   "title_cell": "Table of Contents",
   "title_sidebar": "Contents",
   "toc_cell": false,
   "toc_position": {},
   "toc_section_display": true,
   "toc_window_display": false
  },
  "varInspector": {
   "cols": {
    "lenName": 16,
    "lenType": 16,
    "lenVar": 40
   },
   "kernels_config": {
    "python": {
     "delete_cmd_postfix": "",
     "delete_cmd_prefix": "del ",
     "library": "var_list.py",
     "varRefreshCmd": "print(var_dic_list())"
    },
    "r": {
     "delete_cmd_postfix": ") ",
     "delete_cmd_prefix": "rm(",
     "library": "var_list.r",
     "varRefreshCmd": "cat(var_dic_list()) "
    }
   },
   "types_to_exclude": [
    "module",
    "function",
    "builtin_function_or_method",
    "instance",
    "_Feature"
   ],
   "window_display": false
  }
 },
 "nbformat": 4,
 "nbformat_minor": 4
}
